{
 "metadata": {
  "name": "",
  "signature": "sha256:5a4ce5740d597e2ed13f070a2191134fcfea996666e65c86063d8e26f3c49df9"
 },
 "nbformat": 3,
 "nbformat_minor": 0,
 "worksheets": [
  {
   "cells": [
    {
     "cell_type": "markdown",
     "metadata": {
      "slideshow": {
       "slide_type": "-"
      }
     },
     "source": [
      "#Initialization# "
     ]
    },
    {
     "cell_type": "code",
     "collapsed": false,
     "input": [
      "import monk.core.api as ms\n",
      "from monk.roles.configuration import default_config"
     ],
     "language": "python",
     "metadata": {},
     "outputs": [],
     "prompt_number": 1
    },
    {
     "cell_type": "code",
     "collapsed": false,
     "input": [
      "config=default_config()"
     ],
     "language": "python",
     "metadata": {},
     "outputs": [
      {
       "output_type": "stream",
       "stream": "stdout",
       "text": [
        "[2015-03-27 23:25:32,696][19717][monk.roles.configuration][INFO    ][93  ][configuration.py] : configuration done\n"
       ]
      }
     ],
     "prompt_number": 2
    },
    {
     "cell_type": "code",
     "collapsed": false,
     "input": [
      "ms.initialize(default_config())"
     ],
     "language": "python",
     "metadata": {},
     "outputs": [
      {
       "output_type": "stream",
       "stream": "stdout",
       "text": [
        "[2015-03-27 23:25:34,661][19717][monk.roles.configuration][INFO    ][93  ][configuration.py] : configuration done\n"
       ]
      },
      {
       "output_type": "stream",
       "stream": "stdout",
       "text": [
        "[2015-03-27 23:25:34,661][19717][monk.api    ][INFO    ][40  ][api.py  ] : ------start up------\n"
       ]
      },
      {
       "output_type": "stream",
       "stream": "stdout",
       "text": [
        "[2015-03-27 23:25:34,668][19717][monk.uid    ][INFO    ][32  ][uid.py  ] : initializing uid store\n"
       ]
      },
      {
       "output_type": "stream",
       "stream": "stdout",
       "text": [
        "[2015-03-27 23:25:34,669][19717][monk.crane  ][INFO    ][61  ][crane.py] : initializing Seattle \n"
       ]
      },
      {
       "output_type": "stream",
       "stream": "stdout",
       "text": [
        "[2015-03-27 23:25:34,671][19717][monk.crane  ][INFO    ][61  ][crane.py] : initializing UserStore \n"
       ]
      },
      {
       "output_type": "stream",
       "stream": "stdout",
       "text": [
        "[2015-03-27 23:25:34,675][19717][monk.crane  ][INFO    ][61  ][crane.py] : initializing EngineStore \n"
       ]
      },
      {
       "output_type": "stream",
       "stream": "stdout",
       "text": [
        "[2015-03-27 23:25:34,677][19717][monk.crane  ][INFO    ][61  ][crane.py] : initializing PandaStore \n"
       ]
      },
      {
       "output_type": "stream",
       "stream": "stdout",
       "text": [
        "[2015-03-27 23:25:34,679][19717][monk.crane  ][INFO    ][61  ][crane.py] : initializing MantisStore \n"
       ]
      },
      {
       "output_type": "stream",
       "stream": "stdout",
       "text": [
        "[2015-03-27 23:25:34,679][19717][monk.crane  ][INFO    ][61  ][crane.py] : initializing TurtleStore \n"
       ]
      },
      {
       "output_type": "stream",
       "stream": "stdout",
       "text": [
        "[2015-03-27 23:25:34,680][19717][monk.crane  ][INFO    ][61  ][crane.py] : initializing TigressStore \n"
       ]
      },
      {
       "metadata": {},
       "output_type": "pyout",
       "prompt_number": 3,
       "text": [
        "True"
       ]
      }
     ],
     "prompt_number": 3
    },
    {
     "cell_type": "markdown",
     "metadata": {},
     "source": [
      "#Convert entities to MONK objects#\n",
      "    convert_entities(collectionName=None)\n",
      "Parameters:\n",
      "\n",
      "- `collectionName`: the name of the collection."
     ]
    },
    {
     "cell_type": "code",
     "collapsed": false,
     "input": [
      "ents = ms.convert_entities()"
     ],
     "language": "python",
     "metadata": {},
     "outputs": [],
     "prompt_number": 4
    },
    {
     "cell_type": "markdown",
     "metadata": {},
     "source": [
      "#An entity#\n",
      "+ `_raws` : this is a field that stores temporary features for MONK. Keys are in string, values can be any objects.\n",
      "+ `_features` : this is a field that stores the internal feature representations for MONK.\n",
      "+ `creator`, `createdTime`, `lastModified` : fields to keep version information\n",
      "+ `monkType` : type defined in MONK\n",
      "+ `generic` : convert a MONKObject to a json blob\n"
     ]
    },
    {
     "cell_type": "code",
     "collapsed": false,
     "input": [
      "ents[0].generic()"
     ],
     "language": "python",
     "metadata": {},
     "outputs": [
      {
       "metadata": {},
       "output_type": "pyout",
       "prompt_number": 5,
       "text": [
        "{'_features': [],\n",
        " '_raws': {},\n",
        " u'address': u'\\n\\t\\t\\t1620 BroadwaySeattle, WA 98122\\n\\t\\t',\n",
        " u'category_str_list': [u'Ice Cream & Frozen Yogurt'],\n",
        " u'comment': u'I love all those options for yogurt flavors and toppings.',\n",
        " 'createdTime': datetime.datetime(2015, 3, 21, 6, 32, 51, 571000),\n",
        " 'creator': u'monk',\n",
        " u'desc': u'Yogurtland',\n",
        " u'google_geometry': [{u'address_components': [{u'long_name': u'1620',\n",
        "     u'short_name': u'1620',\n",
        "     u'types': [u'street_number']},\n",
        "    {u'long_name': u'Broadway',\n",
        "     u'short_name': u'Broadway',\n",
        "     u'types': [u'route']},\n",
        "    {u'long_name': u'Capitol Hill',\n",
        "     u'short_name': u'Capitol Hill',\n",
        "     u'types': [u'neighborhood', u'political']},\n",
        "    {u'long_name': u'Seattle',\n",
        "     u'short_name': u'Seattle',\n",
        "     u'types': [u'locality', u'political']},\n",
        "    {u'long_name': u'Seattle',\n",
        "     u'short_name': u'Seattle',\n",
        "     u'types': [u'administrative_area_level_3', u'political']},\n",
        "    {u'long_name': u'King',\n",
        "     u'short_name': u'King',\n",
        "     u'types': [u'administrative_area_level_2', u'political']},\n",
        "    {u'long_name': u'Washington',\n",
        "     u'short_name': u'WA',\n",
        "     u'types': [u'administrative_area_level_1', u'political']},\n",
        "    {u'long_name': u'United States',\n",
        "     u'short_name': u'US',\n",
        "     u'types': [u'country', u'political']},\n",
        "    {u'long_name': u'98122',\n",
        "     u'short_name': u'98122',\n",
        "     u'types': [u'postal_code']}],\n",
        "   u'formatted_address': u'1620 Broadway, Seattle, WA 98122, USA',\n",
        "   u'geometry': {u'location': {u'lat': 47.6162747, u'lng': -122.3205492},\n",
        "    u'location_type': u'ROOFTOP',\n",
        "    u'viewport': {u'northeast': {u'lat': 47.6176236802915,\n",
        "      u'lng': -122.3192002197085},\n",
        "     u'southwest': {u'lat': 47.6149257197085, u'lng': -122.3218981802915}}},\n",
        "   u'types': [u'street_address']}],\n",
        " 'lastModified': datetime.datetime(2015, 3, 21, 6, 34, 41, 806844),\n",
        " u'link': u'/biz/yogurtland-seattle',\n",
        " 'monkType': 'Entity',\n",
        " 'name': u'',\n",
        " u'price_range': 1,\n",
        " u'rating_string': u'4.5',\n",
        " u'review_count': u'275',\n",
        " u'title': u'Yogurtland'}"
       ]
      }
     ],
     "prompt_number": 5
    },
    {
     "cell_type": "markdown",
     "metadata": {},
     "source": [
      "#MONK Types#\n",
      "##Turtle##\n",
      "Turtle is a collection of base models, i.e., Panda."
     ]
    },
    {
     "cell_type": "code",
     "collapsed": false,
     "input": [
      "ms.find_type('Turtle')"
     ],
     "language": "python",
     "metadata": {},
     "outputs": [
      {
       "metadata": {},
       "output_type": "pyout",
       "prompt_number": 6,
       "text": [
        "['UniGramTurtle',\n",
        " 'StemTurtle',\n",
        " 'POSTurtle',\n",
        " 'SPNTurtle',\n",
        " 'DictionaryTurtle',\n",
        " 'Turtle',\n",
        " 'RankingTurtle',\n",
        " 'SingleTurtle',\n",
        " 'MultiLabelTurtle']"
       ]
      }
     ],
     "prompt_number": 6
    },
    {
     "cell_type": "markdown",
     "metadata": {},
     "source": [
      "##Panda##\n",
      "Panda is the base model in MONK. Currently, it is a linear SVC."
     ]
    },
    {
     "cell_type": "code",
     "collapsed": false,
     "input": [
      "ms.find_type('Panda')"
     ],
     "language": "python",
     "metadata": {},
     "outputs": [
      {
       "metadata": {},
       "output_type": "pyout",
       "prompt_number": 7,
       "text": [
        "['RegexPanda', 'Panda', 'LinearPanda', 'ExistPanda']"
       ]
      }
     ],
     "prompt_number": 7
    },
    {
     "cell_type": "markdown",
     "metadata": {},
     "source": [
      "##Tigress##\n",
      "\n",
      "Tigress is the superviser to train the models(Pandas). The major funcations include:\n",
      "\n",
      "- Extract ground truth from data\n",
      "- Create training example, i.e., (input, output, weight) for each panda\n",
      "- Measure the accuracies of turtle's prediction\n"
     ]
    },
    {
     "cell_type": "code",
     "collapsed": false,
     "input": [
      "ms.find_type('Tigress')"
     ],
     "language": "python",
     "metadata": {},
     "outputs": [
      {
       "metadata": {},
       "output_type": "pyout",
       "prompt_number": 8,
       "text": [
        "['Tigress',\n",
        " 'MultiLabelTigress',\n",
        " 'SPNTigress',\n",
        " 'PatternTigress',\n",
        " 'SelfTigress',\n",
        " 'LexiconTigress',\n",
        " 'CoTigress']"
       ]
      }
     ],
     "prompt_number": 8
    },
    {
     "cell_type": "markdown",
     "metadata": {},
     "source": [
      "#Create a Unigram Turtle#\n",
      "Unigram turtle extracts word frequency features from specified fields"
     ]
    },
    {
     "cell_type": "code",
     "collapsed": false,
     "input": [
      "unigramTS = ms.yaml2json('turtle_scripts/turtle_unigram.yml')"
     ],
     "language": "python",
     "metadata": {},
     "outputs": [],
     "prompt_number": 4
    },
    {
     "cell_type": "code",
     "collapsed": false,
     "input": [
      "unigramTS"
     ],
     "language": "python",
     "metadata": {},
     "outputs": [
      {
       "metadata": {},
       "output_type": "pyout",
       "prompt_number": 5,
       "text": [
        "{'description': 'extract unigram features',\n",
        " 'monkType': 'UniGramTurtle',\n",
        " 'name': 'travel_unigram'}"
       ]
      }
     ],
     "prompt_number": 5
    },
    {
     "cell_type": "code",
     "collapsed": false,
     "input": [
      "unigramT = ms.create_turtle(unigramTS)"
     ],
     "language": "python",
     "metadata": {},
     "outputs": [],
     "prompt_number": 7
    },
    {
     "cell_type": "markdown",
     "metadata": {},
     "source": [
      "#Create a Stemming Turtle#\n",
      "Stemming turtle extracts word frequency features from specified fields but with stemming functionality"
     ]
    },
    {
     "cell_type": "code",
     "collapsed": false,
     "input": [
      "stemTS = ms.yaml2json('turtle_scripts/turtle_stem.yml')"
     ],
     "language": "python",
     "metadata": {},
     "outputs": [],
     "prompt_number": 8
    },
    {
     "cell_type": "code",
     "collapsed": false,
     "input": [
      "stemT = ms.create_turtle(stemTS)"
     ],
     "language": "python",
     "metadata": {},
     "outputs": [],
     "prompt_number": 9
    },
    {
     "cell_type": "markdown",
     "metadata": {},
     "source": [
      "#Feature Extraction#"
     ]
    },
    {
     "cell_type": "code",
     "collapsed": false,
     "input": [
      "stemT = ms.load_turtle('travel_stem','monk')\n",
      "stemT.generic()"
     ],
     "language": "python",
     "metadata": {},
     "outputs": [
      {
       "metadata": {},
       "output_type": "pyout",
       "prompt_number": 26,
       "text": [
        "{'createdTime': datetime.datetime(2015, 3, 21, 7, 23, 10, 22000),\n",
        " 'creator': u'monk',\n",
        " 'description': u'extract stemmed features',\n",
        " 'entityCollectionName': u'',\n",
        " 'followers': [],\n",
        " 'lastModified': datetime.datetime(2015, 3, 27, 23, 32, 29, 207966),\n",
        " 'leader': None,\n",
        " 'mapping': {},\n",
        " 'monkType': u'StemTurtle',\n",
        " 'name': u'travel_stem',\n",
        " 'pEPS': 1e-06,\n",
        " 'pMaxInferenceSteps': 1000,\n",
        " 'pMaxPathLength': 1,\n",
        " 'pMergeClock': 0,\n",
        " 'pPartialBarrier': 50,\n",
        " 'pPenalty': 1.0,\n",
        " 'pTrainClock': 0,\n",
        " 'pandas': [{'creator': 'monk', 'name': u'yogurtland'},\n",
        "  {'creator': 'monk', 'name': u'yogurt'},\n",
        "  {'creator': 'monk', 'name': u'flavor'},\n",
        "  {'creator': 'monk', 'name': u'top'},\n",
        "  {'creator': 'monk', 'name': u'love'},\n",
        "  {'creator': 'monk', 'name': u'option'},\n",
        "  {'creator': 'monk', 'name': u'list'},\n",
        "  {'creator': 'monk', 'name': u'black'},\n",
        "  {'creator': 'monk', 'name': u'cream'},\n",
        "  {'creator': 'monk', 'name': u'gnocchi'},\n",
        "  {'creator': 'monk', 'name': u'truffl'},\n",
        "  {'creator': 'monk', 'name': u'lock'},\n",
        "  {'creator': 'monk', 'name': u'chittenden'},\n",
        "  {'creator': 'monk', 'name': u'hiram'},\n",
        "  {'creator': 'monk', 'name': u'sure'},\n",
        "  {'creator': 'monk', 'name': u'fish'},\n",
        "  {'creator': 'monk', 'name': u'ladder'},\n",
        "  {'creator': 'monk', 'name': u'salmon'},\n",
        "  {'creator': 'monk', 'name': u'check'},\n",
        "  {'creator': 'monk', 'name': u'make'},\n",
        "  {'creator': 'monk', 'name': u'laura'},\n",
        "  {'creator': 'monk', 'name': u'design'},\n",
        "  {'creator': 'monk', 'name': u'bee'},\n",
        "  {'creator': 'monk', 'name': u'purs'},\n",
        "  {'creator': 'monk', 'name': u'jewelri'},\n",
        "  {'creator': 'monk', 'name': u'great'},\n",
        "  {'creator': 'monk', 'name': u'assort'},\n",
        "  {'creator': 'monk', 'name': u'uniqu'},\n",
        "  {'creator': 'monk', 'name': u'hair'},\n",
        "  {'creator': 'monk', 'name': u'radar'},\n",
        "  {'creator': 'monk', 'name': u'record'},\n",
        "  {'creator': 'monk', 'name': u'&'},\n",
        "  {'creator': 'monk', 'name': u'cut'},\n",
        "  {'creator': 'monk', 'name': u','},\n",
        "  {'creator': 'monk', 'name': u'martin'},\n",
        "  {'creator': 'monk', 'name': u'need'},\n",
        "  {'creator': 'monk', 'name': u'guy'},\n",
        "  {'creator': 'monk', 'name': u'notch'},\n",
        "  {'creator': 'monk', 'name': u'hotel'},\n",
        "  {'creator': 'monk', 'name': u'1000'},\n",
        "  {'creator': 'monk', 'name': u'floor'},\n",
        "  {'creator': 'monk', 'name': u'ceil'},\n",
        "  {'creator': 'monk', 'name': u'bay'},\n",
        "  {'creator': 'monk', 'name': u'window'},\n",
        "  {'creator': 'monk', 'name': u'stadium'},\n",
        "  {'creator': 'monk', 'name': u'face'},\n",
        "  {'creator': 'monk', 'name': u'gyro'},\n",
        "  {'creator': 'monk', 'name': u'tri'},\n",
        "  {'creator': 'monk', 'name': u'good'},\n",
        "  {'creator': 'monk', 'name': u'anyon'},\n",
        "  {'creator': 'monk', 'name': u'must'},\n",
        "  {'creator': 'monk', 'name': u'glass'},\n",
        "  {'creator': 'monk', 'name': u'chihuli'},\n",
        "  {'creator': 'monk', 'name': u'garden'},\n",
        "  {'creator': 'monk', 'name': u'right'},\n",
        "  {'creator': 'monk', 'name': u\"'s\"},\n",
        "  {'creator': 'monk', 'name': u'area'},\n",
        "  {'creator': 'monk', 'name': u'museum'},\n",
        "  {'creator': 'monk', 'name': u'space'},\n",
        "  {'creator': 'monk', 'name': u'near'},\n",
        "  {'creator': 'monk', 'name': u'emp'},\n",
        "  {'creator': 'monk', 'name': u'needl'},\n",
        "  {'creator': 'monk', 'name': u'cure'},\n",
        "  {'creator': 'monk', 'name': u'meat'},\n",
        "  {'creator': 'monk', 'name': u'salumi'},\n",
        "  {'creator': 'monk', 'name': u'artisan'},\n",
        "  {'creator': 'monk', 'name': u'enjoy'},\n",
        "  {'creator': 'monk', 'name': u'porchetta'},\n",
        "  {'creator': 'monk', 'name': u'fave'},\n",
        "  {'creator': 'monk', 'name': u'hand'},\n",
        "  {'creator': 'monk', 'name': u'theo'},\n",
        "  {'creator': 'monk', 'name': u'chocol'},\n",
        "  {'creator': 'monk', 'name': u'thought'},\n",
        "  {'creator': 'monk', 'name': u'inform'},\n",
        "  {'creator': 'monk', 'name': u'tour'},\n",
        "  {'creator': 'monk', 'name': u'interest'},\n",
        "  {'creator': 'monk', 'name': u'babeland'},\n",
        "  {'creator': 'monk', 'name': u'help'},\n",
        "  {'creator': 'monk', 'name': u'excel'},\n",
        "  {'creator': 'monk', 'name': u'friendli'},\n",
        "  {'creator': 'monk', 'name': u'posit'},\n",
        "  {'creator': 'monk', 'name': u'sex'},\n",
        "  {'creator': 'monk', 'name': u'select'},\n",
        "  {'creator': 'monk', 'name': u'staff'},\n",
        "  {'creator': 'monk', 'name': u'pike'},\n",
        "  {'creator': 'monk', 'name': u'chowder'},\n",
        "  {'creator': 'monk', 'name': u'place'},\n",
        "  {'creator': 'monk', 'name': u'quit'},\n",
        "  {'creator': 'monk', 'name': u'style'},\n",
        "  {'creator': 'monk', 'name': u'clam'},\n",
        "  {'creator': 'monk', 'name': u'england'},\n",
        "  {'creator': 'monk', 'name': u\"'ve\"},\n",
        "  {'creator': 'monk', 'name': u'easili'},\n",
        "  {'creator': 'monk', 'name': u'new'},\n",
        "  {'creator': 'monk', 'name': u'best'},\n",
        "  {'creator': 'monk', 'name': u'doughnut'},\n",
        "  {'creator': 'monk', 'name': u'compani'},\n",
        "  {'creator': 'monk', 'name': u'daili'},\n",
        "  {'creator': 'monk', 'name': u'dozen'},\n",
        "  {'creator': 'monk', 'name': u'jose'},\n",
        "  {'creator': 'monk', 'name': u'san'},\n",
        "  {'creator': 'monk', 'name': u'wish'},\n",
        "  {'creator': 'monk', 'name': u'powder'},\n",
        "  {'creator': 'monk', 'name': u'wonder'},\n",
        "  {'creator': 'monk', 'name': u'donut'},\n",
        "  {'creator': 'monk', 'name': u'mighty-o'},\n",
        "  {'creator': 'monk', 'name': u'vanilla'},\n",
        "  {'creator': 'monk', 'name': u'raspberri'},\n",
        "  {'creator': 'monk', 'name': u'glaze'},\n",
        "  {'creator': 'monk', 'name': u'cake'},\n",
        "  {'creator': 'monk', 'name': u'tea'},\n",
        "  {'creator': 'monk', 'name': u'remedi'},\n",
        "  {'creator': 'monk', 'name': u'organ'},\n",
        "  {'creator': 'monk', 'name': u'el'},\n",
        "  {'creator': 'monk', 'name': u'asadero'},\n",
        "  {'creator': 'monk', 'name': u'taco'},\n",
        "  {'creator': 'monk', 'name': u'bu'},\n",
        "  {'creator': 'monk', 'name': u'abso-effing-lut'},\n",
        "  {'creator': 'monk', 'name': u'bottlehous'},\n",
        "  {'creator': 'monk', 'name': u'henri'},\n",
        "  {'creator': 'monk', 'name': u'also'},\n",
        "  {'creator': 'monk', 'name': u'owner'},\n",
        "  {'creator': 'monk', 'name': u'meet'},\n",
        "  {'creator': 'monk', 'name': u'pleasur'},\n",
        "  {'creator': 'monk', 'name': u'art'},\n",
        "  {'creator': 'monk', 'name': u'tabl'},\n",
        "  {'creator': 'monk', 'name': u'us'},\n",
        "  {'creator': 'monk', 'name': u'chef'},\n",
        "  {'creator': 'monk', 'name': u'chat'},\n",
        "  {'creator': 'monk', 'name': u'dustin'},\n",
        "  {'creator': 'monk', 'name': u'chanc'},\n",
        "  {'creator': 'monk', 'name': u'gave'},\n",
        "  {'creator': 'monk', 'name': u'espresso'},\n",
        "  {'creator': 'monk', 'name': u'monorail'},\n",
        "  {'creator': 'monk', 'name': u'even'},\n",
        "  {'creator': 'monk', 'name': u'latt'},\n",
        "  {'creator': 'monk', 'name': u'sip'},\n",
        "  {'creator': 'monk', 'name': u'nog'},\n",
        "  {'creator': 'monk', 'name': u'egg'},\n",
        "  {'creator': 'monk', 'name': u'amaz'},\n",
        "  {'creator': 'monk', 'name': u'elliott'},\n",
        "  {'creator': 'monk', 'name': u'book'},\n",
        "  {'creator': 'monk', 'name': u'town'},\n",
        "  {'creator': 'monk', 'name': u'simpli'},\n",
        "  {'creator': 'monk', 'name': u'classic'},\n",
        "  {'creator': 'monk', 'name': u'seattl'},\n",
        "  {'creator': 'monk', 'name': u'bookstor'},\n",
        "  {'creator': 'monk', 'name': u\"'n\"},\n",
        "  {'creator': 'monk', 'name': u'jill'},\n",
        "  {'creator': 'monk', 'name': u'super'},\n",
        "  {'creator': 'monk', 'name': u'jock'},\n",
        "  {'creator': 'monk', 'name': u'run'},\n",
        "  {'creator': 'monk', 'name': u'back'},\n",
        "  {'creator': 'monk', 'name': u'next'},\n",
        "  {'creator': 'monk', 'name': u'shoe'},\n",
        "  {'creator': 'monk', 'name': u'pair'},\n",
        "  {'creator': 'monk', 'name': u\"'ll\"},\n",
        "  {'creator': 'monk', 'name': u'come'},\n",
        "  {'creator': 'monk', 'name': u'shop'},\n",
        "  {'creator': 'monk', 'name': u'crumpet'},\n",
        "  {'creator': 'monk', 'name': u'littl'},\n",
        "  {'creator': 'monk', 'name': u'market'},\n",
        "  {'creator': 'monk', 'name': u'outsid'},\n",
        "  {'creator': 'monk', 'name': u'gem'},\n",
        "  {'creator': 'monk', 'name': u'uwajimaya'},\n",
        "  {'creator': 'monk', 'name': u'court'},\n",
        "  {'creator': 'monk', 'name': u'ad'},\n",
        "  {'creator': 'monk', 'name': u'incred'},\n",
        "  {'creator': 'monk', 'name': u'food'},\n",
        "  {'creator': 'monk', 'name': u'bonu'},\n",
        "  {'creator': 'monk', 'name': u'delici'},\n",
        "  {'creator': 'monk', 'name': u'gelato'},\n",
        "  {'creator': 'monk', 'name': u\"d'ambrosio\"},\n",
        "  {'creator': 'monk', 'name': u'lavend'},\n",
        "  {'creator': 'monk', 'name': u'pistachio'},\n",
        "  {'creator': 'monk', 'name': u'friend'},\n",
        "  {'creator': 'monk', 'name': u'panier'},\n",
        "  {'creator': 'monk', 'name': u'bakeri'},\n",
        "  {'creator': 'monk', 'name': u'le'},\n",
        "  {'creator': 'monk', 'name': u'french'},\n",
        "  {'creator': 'monk', 'name': u'fruit'},\n",
        "  {'creator': 'monk', 'name': u'equal'},\n",
        "  {'creator': 'monk', 'name': u'mini-pastri'},\n",
        "  {'creator': 'monk', 'name': u'tart'},\n",
        "  {'creator': 'monk', 'name': u'handmad'},\n",
        "  {'creator': 'monk', 'name': u'beecher'},\n",
        "  {'creator': 'monk', 'name': u'chees'},\n",
        "  {'creator': 'monk', 'name': u'ca'},\n",
        "  {'creator': 'monk', 'name': u\"n't\"},\n",
        "  {'creator': 'monk', 'name': u'mac'},\n",
        "  {'creator': 'monk', 'name': u'wait'},\n",
        "  {'creator': 'monk', 'name': u'mcphee'},\n",
        "  {'creator': 'monk', 'name': u'archi'},\n",
        "  {'creator': 'monk', 'name': u'set'},\n",
        "  {'creator': 'monk', 'name': u'figur'},\n",
        "  {'creator': 'monk', 'name': u'ladi'},\n",
        "  {'creator': 'monk', 'name': u'cat'},\n",
        "  {'creator': 'monk', 'name': u'crazi'},\n",
        "  {'creator': 'monk', 'name': u'air'},\n",
        "  {'creator': 'monk', 'name': u'action'},\n",
        "  {'creator': 'monk', 'name': u'freshen'},\n",
        "  {'creator': 'monk', 'name': u'corndog'},\n",
        "  {'creator': 'monk', 'name': u'sun'},\n",
        "  {'creator': 'monk', 'name': u'liquor'},\n",
        "  {'creator': 'monk', 'name': u'old'},\n",
        "  {'creator': 'monk', 'name': u'timey'},\n",
        "  {'creator': 'monk', 'name': u'perform'},\n",
        "  {'creator': 'monk', 'name': u'juicer'},\n",
        "  {'creator': 'monk', 'name': u'squeez'},\n",
        "  {'creator': 'monk', 'name': u'fresh'},\n",
        "  {'creator': 'monk', 'name': u'juic'},\n",
        "  {'creator': 'monk', 'name': u'flower'},\n",
        "  {'creator': 'monk', 'name': u'mention'},\n",
        "  {'creator': 'monk', 'name': u'neat'},\n",
        "  {'creator': 'monk', 'name': u'stand'},\n",
        "  {'creator': 'monk', 'name': u'bucket'},\n",
        "  {'creator': 'monk', 'name': u'use'},\n",
        "  {'creator': 'monk', 'name': u'everi'},\n",
        "  {'creator': 'monk', 'name': u'michael'},\n",
        "  {'creator': 'monk', 'name': u'job'},\n",
        "  {'creator': 'monk', 'name': u'done'},\n",
        "  {'creator': 'monk', 'name': u'time'},\n",
        "  {'creator': 'monk', 'name': u'video'},\n",
        "  {'creator': 'monk', 'name': u'scarecrow'},\n",
        "  {'creator': 'monk', 'name': u'like'},\n",
        "  {'creator': 'monk', 'name': u'movi'},\n",
        "  {'creator': 'monk', 'name': u'well'},\n",
        "  {'creator': 'monk', 'name': u'visit'},\n",
        "  {'creator': 'monk', 'name': u'obscur'},\n",
        "  {'creator': 'monk', 'name': u'worth'},\n",
        "  {'creator': 'monk', 'name': u'brew'},\n",
        "  {'creator': 'monk', 'name': u'georgetown'},\n",
        "  {'creator': 'monk', 'name': u'manni'},\n",
        "  {'creator': 'monk', 'name': u'9llb'},\n",
        "  {'creator': 'monk', 'name': u'realli'},\n",
        "  {'creator': 'monk', 'name': u'beer'},\n",
        "  {'creator': 'monk', 'name': u'porter'},\n",
        "  {'creator': 'monk', 'name': u'tat'},\n",
        "  {'creator': 'monk', 'name': u'delicatessen'},\n",
        "  {'creator': 'monk', 'name': u'pastrami'},\n",
        "  {'creator': 'monk', 'name': u'show'},\n",
        "  {'creator': 'monk', 'name': u'flight'},\n",
        "  {'creator': 'monk', 'name': u'one'},\n",
        "  {'creator': 'monk', 'name': u'concord'},\n",
        "  {'creator': 'monk', 'name': u'forc'},\n",
        "  {'creator': 'monk', 'name': u'get'},\n",
        "  {'creator': 'monk', 'name': u'walk'},\n",
        "  {'creator': 'monk', 'name': u'paseo'},\n",
        "  {'creator': 'monk', 'name': u'cuban'},\n",
        "  {'creator': 'monk', 'name': u'sandwich'},\n",
        "  {'creator': 'monk', 'name': u'stop'},\n",
        "  {'creator': 'monk', 'name': u'midnight'},\n",
        "  {'creator': 'monk', 'name': u'press'},\n",
        "  {'creator': 'monk', 'name': u'think'},\n",
        "  {'creator': 'monk', 'name': u'junction'},\n",
        "  {'creator': 'monk', 'name': u'morgan'},\n",
        "  {'creator': 'monk', 'name': u'nouveau'},\n",
        "  {'creator': 'monk', 'name': u'twice'},\n",
        "  {'creator': 'monk', 'name': u'bake'},\n",
        "  {'creator': 'monk', 'name': u'almond'},\n",
        "  {'creator': 'monk', 'name': u'croissant'},\n",
        "  {'creator': 'monk', 'name': u'golden'},\n",
        "  {'creator': 'monk', 'name': u'summer'},\n",
        "  {'creator': 'monk', 'name': u'spot'},\n",
        "  {'creator': 'monk', 'name': u'go'},\n",
        "  {'creator': 'monk', 'name': u'bar'},\n",
        "  {'creator': 'monk', 'name': u'vivac'},\n",
        "  {'creator': 'monk', 'name': u'sidewalk'},\n",
        "  {'creator': 'monk', 'name': u'velvet'},\n",
        "  {'creator': 'monk', 'name': u'mocha'},\n",
        "  {'creator': 'monk', 'name': u'white'},\n",
        "  {'creator': 'monk', 'name': u'ballard'},\n",
        "  {'creator': 'monk', 'name': u'sunday'},\n",
        "  {'creator': 'monk', 'name': u'farmer'},\n",
        "  {'creator': 'monk', 'name': u'year'},\n",
        "  {'creator': 'monk', 'name': u'round'},\n",
        "  {'creator': 'monk', 'name': u'piroshki'},\n",
        "  {'creator': 'monk', 'name': u'beef'},\n",
        "  {'creator': 'monk', 'name': u'slave'},\n",
        "  {'creator': 'monk', 'name': u'produc'},\n",
        "  {'creator': 'monk', 'name': u'macpherson'},\n",
        "  {'creator': 'monk', 'name': u'easi'},\n",
        "  {'creator': 'monk', 'name': u'price'},\n",
        "  {'creator': 'monk', 'name': u'park'},\n",
        "  {'creator': 'monk', 'name': u'much'},\n",
        "  {'creator': 'monk', 'name': u'local'},\n",
        "  {'creator': 'monk', 'name': u'kingdom'},\n",
        "  {'creator': 'monk', 'name': u'card'},\n",
        "  {'creator': 'monk', 'name': u'mox'},\n",
        "  {'creator': 'monk', 'name': u'everyth'},\n",
        "  {'creator': 'monk', 'name': u'cafe'},\n",
        "  {'creator': 'monk', 'name': u'haven'},\n",
        "  {'creator': 'monk', 'name': u'vegan'},\n",
        "  {'creator': 'monk', 'name': u'@'},\n",
        "  {'creator': 'monk', 'name': u'still'},\n",
        "  {'creator': 'monk', 'name': u'%'},\n",
        "  {'creator': 'monk', 'name': u'*-n'},\n",
        "  {'creator': 'monk', 'name': u'awesom'},\n",
        "  {'creator': 'monk', 'name': u'total'},\n",
        "  {'creator': 'monk', 'name': u'sidecar'},\n",
        "  {'creator': 'monk', 'name': u'carpent'},\n",
        "  {'creator': 'monk', 'name': u'walru'},\n",
        "  {'creator': 'monk', 'name': u'return'},\n",
        "  {'creator': 'monk', 'name': u'oyster'},\n",
        "  {'creator': 'monk', 'name': u'grill'},\n",
        "  {'creator': 'monk', 'name': u'metropolitan'},\n",
        "  {'creator': 'monk', 'name': u'wagyu'},\n",
        "  {'creator': 'monk', 'name': u'pricey'},\n",
        "  {'creator': 'monk', 'name': u'rare'},\n",
        "  {'creator': 'monk', 'name': u'treat'},\n",
        "  {'creator': 'monk', 'name': u'honor'},\n",
        "  {'creator': 'monk', 'name': u'amann'},\n",
        "  {'creator': 'monk', 'name': u'definit'},\n",
        "  {'creator': 'monk', 'name': u'crave'},\n",
        "  {'creator': 'monk', 'name': u'kouign'},\n",
        "  {'creator': 'monk', 'name': u'suppli'},\n",
        "  {'creator': 'monk', 'name': u'craftsman'},\n",
        "  {'creator': 'monk', 'name': u'artist'},\n",
        "  {'creator': 'monk', 'name': u'canvas'},\n",
        "  {'creator': 'monk', 'name': u'lot'},\n",
        "  {'creator': 'monk', 'name': u'size'},\n",
        "  {'creator': 'monk', 'name': u'shiro'},\n",
        "  {'creator': 'monk', 'name': u'omakas'},\n",
        "  {'creator': 'monk', 'name': u'24'},\n",
        "  {'creator': 'monk', 'name': u'alley'},\n",
        "  {'creator': 'monk', 'name': u'finish'},\n",
        "  {'creator': 'monk', 'name': u'smooth'},\n",
        "  {'creator': 'monk', 'name': u'start'},\n",
        "  {'creator': 'monk', 'name': u'calozzi'},\n",
        "  {'creator': 'monk', 'name': u'onion'},\n",
        "  {'creator': 'monk', 'name': u'w/'},\n",
        "  {'creator': 'monk', 'name': u'whiz'},\n",
        "  {'creator': 'monk', 'name': u'tini'},\n",
        "  {'creator': 'monk', 'name': u'confect'},\n",
        "  {'creator': 'monk', 'name': u'creami'},\n",
        "  {'creator': 'monk', 'name': u'cheesecak'},\n",
        "  {'creator': 'monk', 'name': u'sooo'},\n",
        "  {'creator': 'monk', 'name': u'heavi'},\n",
        "  {'creator': 'monk', 'name': u'rich'},\n",
        "  {'creator': 'monk', 'name': u'yet'},\n",
        "  {'creator': 'monk', 'name': u'marketspic'},\n",
        "  {'creator': 'monk', 'name': u'die'},\n",
        "  {'creator': 'monk', 'name': u'orang'},\n",
        "  {'creator': 'monk', 'name': u'other'},\n",
        "  {'creator': 'monk', 'name': u'cinnamon'},\n",
        "  {'creator': 'monk', 'name': u'blend'},\n",
        "  {'creator': 'monk', 'name': u'map'},\n",
        "  {'creator': 'monk', 'name': u'metsker'},\n",
        "  {'creator': 'monk', 'name': u'everywher'},\n",
        "  {'creator': 'monk', 'name': u'anoth'},\n",
        "  {'creator': 'monk', 'name': u'globe'},\n",
        "  {'creator': 'monk', 'name': u'turn'},\n",
        "  {'creator': 'monk', 'name': u'qualiti'},\n",
        "  {'creator': 'monk', 'name': u'bob'},\n",
        "  {'creator': 'monk', 'name': u'sausag'},\n",
        "  {'creator': 'monk', 'name': u'rabbit'},\n",
        "  {'creator': 'monk', 'name': u'duck'},\n",
        "  {'creator': 'monk', 'name': u'saw'},\n",
        "  {'creator': 'monk', 'name': u'goat'},\n",
        "  {'creator': 'monk', 'name': u'nishino'},\n",
        "  {'creator': 'monk', 'name': u'alway'},\n",
        "  {'creator': 'monk', 'name': u'spinass'},\n",
        "  {'creator': 'monk', 'name': u'cascina'},\n",
        "  {'creator': 'monk', 'name': u'butter'},\n",
        "  {'creator': 'monk', 'name': u'tajarin'},\n",
        "  {'creator': 'monk', 'name': u'sage'},\n",
        "  {'creator': 'monk', 'name': u'-'},\n",
        "  {'creator': 'monk', 'name': u'sauc'},\n",
        "  {'creator': 'monk', 'name': u'sutra'},\n",
        "  {'creator': 'monk', 'name': u'menu'},\n",
        "  {'creator': 'monk', 'name': u'pare'},\n",
        "  {'creator': 'monk', 'name': u'non-alcohol'},\n",
        "  {'creator': 'monk', 'name': u'work'},\n",
        "  {'creator': 'monk', 'name': u'coffe'},\n",
        "  {'creator': 'monk', 'name': u'slow'},\n",
        "  {'creator': 'monk', 'name': u'citi'},\n",
        "  {'creator': 'monk', 'name': u'fairli'},\n",
        "  {'creator': 'monk', 'name': u'experi'},\n",
        "  {'creator': 'monk', 'name': u'vine'},\n",
        "  {'creator': 'monk', 'name': u'harvest'},\n",
        "  {'creator': 'monk', 'name': u'intim'},\n",
        "  {'creator': 'monk', 'name': u'seat'},\n",
        "  {'creator': 'monk', 'name': u'downstair'},\n",
        "  {'creator': 'monk', 'name': u'romant'},\n",
        "  {'creator': 'monk', 'name': u'corvo'},\n",
        "  {'creator': 'monk', 'name': u'pasta'},\n",
        "  {'creator': 'monk', 'name': u'il'},\n",
        "  {'creator': 'monk', 'name': u'slight'},\n",
        "  {'creator': 'monk', 'name': u'prepar'},\n",
        "  {'creator': 'monk', 'name': u'perfectli'},\n",
        "  {'creator': 'monk', 'name': u'al'},\n",
        "  {'creator': 'monk', 'name': u'dent'},\n",
        "  {'creator': 'monk', 'name': u'troll'},\n",
        "  {'creator': 'monk', 'name': u'fremont'},\n",
        "  {'creator': 'monk', 'name': u'live'},\n",
        "  {'creator': 'monk', 'name': u'must-se'},\n",
        "  {'creator': 'monk', 'name': u'tilt'},\n",
        "  {'creator': 'monk', 'name': u'full'},\n",
        "  {'creator': 'monk', 'name': u'ice'},\n",
        "  {'creator': 'monk', 'name': u'made'},\n",
        "  {'creator': 'monk', 'name': u'+'},\n",
        "  {'creator': 'monk', 'name': u'game'},\n",
        "  {'creator': 'monk', 'name': u'arcad'},\n",
        "  {'creator': 'monk', 'name': u'home'},\n",
        "  {'creator': 'monk', 'name': u'vintag'},\n",
        "  {'creator': 'monk', 'name': u'blue'},\n",
        "  {'creator': 'monk', 'name': u'highway'},\n",
        "  {'creator': 'monk', 'name': u'personnel'},\n",
        "  {'creator': 'monk', 'name': u'favorit'},\n",
        "  {'creator': 'monk', 'name': u'board'},\n",
        "  {'creator': 'monk', 'name': u'store'},\n",
        "  {'creator': 'monk', 'name': u'gaucho'},\n",
        "  {'creator': 'monk', 'name': u'foster'},\n",
        "  {'creator': 'monk', 'name': u'banana'},\n",
        "  {'creator': 'monk', 'name': u'hyatt'},\n",
        "  {'creator': 'monk', 'name': u'grand'},\n",
        "  {'creator': 'monk', 'name': u'north'},\n",
        "  {'creator': 'monk', 'name': u'directli'},\n",
        "  {'creator': 'monk', 'name': u'six'},\n",
        "  {'creator': 'monk', 'name': u'block'},\n",
        "  {'creator': 'monk', 'name': u'lick'},\n",
        "  {'creator': 'monk', 'name': u'pure'},\n",
        "  {'creator': 'monk', 'name': u'let'},\n",
        "  {'creator': 'monk', 'name': u'test'},\n",
        "  {'creator': 'monk', 'name': u'deli'},\n",
        "  {'creator': 'monk', 'name': u'saigon'},\n",
        "  {'creator': 'monk', 'name': u'pork'},\n",
        "  {'creator': 'monk', 'name': u'mi'},\n",
        "  {'creator': 'monk', 'name': u'ga'},\n",
        "  {'creator': 'monk', 'name': u'chicken'},\n",
        "  {'creator': 'monk', 'name': u'heo'},\n",
        "  {'creator': 'monk', 'name': u'banh'},\n",
        "  {'creator': 'monk', 'name': u'moor'},\n",
        "  {'creator': 'monk', 'name': u'mexican'},\n",
        "  {'creator': 'monk', 'name': u'chuki'},\n",
        "  {'creator': 'monk', 'name': u'solid'},\n",
        "  {'creator': 'monk', 'name': u'asada'},\n",
        "  {'creator': 'monk', 'name': u'winner'},\n",
        "  {'creator': 'monk', 'name': u'carn'},\n",
        "  {'creator': 'monk', 'name': u'pollo'},\n",
        "  {'creator': 'monk', 'name': u'bistro'},\n",
        "  {'creator': 'monk', 'name': u'mediterranean'},\n",
        "  {'creator': 'monk', 'name': u'petra'},\n",
        "  {'creator': 'monk', 'name': u'choic'},\n",
        "  {'creator': 'monk', 'name': u'hummu'},\n",
        "  {'creator': 'monk', 'name': u'appet'},\n",
        "  {'creator': 'monk', 'name': u'meal'},\n",
        "  {'creator': 'monk', 'name': u'seriou'},\n",
        "  {'creator': 'monk', 'name': u'pie'},\n",
        "  {'creator': 'monk', 'name': u'mushroom'},\n",
        "  {'creator': 'monk', 'name': u'chanterel'},\n",
        "  {'creator': 'monk', 'name': u'roast'},\n",
        "  {'creator': 'monk', 'name': u':'},\n",
        "  {'creator': 'monk', 'name': u'leaf'},\n",
        "  {'creator': 'monk', 'name': u'green'},\n",
        "  {'creator': 'monk', 'name': u'restaur'},\n",
        "  {'creator': 'monk', 'name': u'vietnames'},\n",
        "  {'creator': 'monk', 'name': u'forget'},\n",
        "  {'creator': 'monk', 'name': u'oh'},\n",
        "  {'creator': 'monk', 'name': u'spring'},\n",
        "  {'creator': 'monk', 'name': u'shrimp'},\n",
        "  {'creator': 'monk', 'name': u'roll'},\n",
        "  {'creator': 'monk', 'name': u'dont'},\n",
        "  {'creator': 'monk', 'name': u'calf'},\n",
        "  {'creator': 'monk', 'name': u'kid'},\n",
        "  {'creator': 'monk', 'name': u'picnic'},\n",
        "  {'creator': 'monk', 'name': u'sake'},\n",
        "  {'creator': 'monk', 'name': u'umi'},\n",
        "  {'creator': 'monk', 'name': u'hous'},\n",
        "  {'creator': 'monk', 'name': u'boy'},\n",
        "  {'creator': 'monk', 'name': u'casanova'},\n",
        "  {'creator': 'monk', 'name': u'bad'},\n",
        "  {'creator': 'monk', 'name': u'recommend'},\n",
        "  {'creator': 'monk', 'name': u'highli'},\n",
        "  {'creator': 'monk', 'name': u'shorti'},\n",
        "  {'creator': 'monk', 'name': u'pinbal'},\n",
        "  {'creator': 'monk', 'name': u'hall'},\n",
        "  {'creator': 'monk', 'name': u'famou'},\n",
        "  {'creator': 'monk', 'name': u'uli'},\n",
        "  {'creator': 'monk', 'name': u'huge'},\n",
        "  {'creator': 'monk', 'name': u'frye'},\n",
        "  {'creator': 'monk', 'name': u'exhibit'},\n",
        "  {'creator': 'monk', 'name': u'school'},\n",
        "  {'creator': 'monk', 'name': u'genr'},\n",
        "  {'creator': 'monk', 'name': u'paint'},\n",
        "  {'creator': 'monk', 'name': u'varieti'},\n",
        "  {'creator': 'monk', 'name': u'cool'},\n",
        "  {'creator': 'monk', 'name': u'faint'},\n",
        "  {'creator': 'monk', 'name': u'salt'},\n",
        "  {'creator': 'monk', 'name': u'caramel'},\n",
        "  {'creator': 'monk', 'name': u'nutella'},\n",
        "  {'creator': 'monk', 'name': u'rachel'},\n",
        "  {'creator': 'monk', 'name': u'pig'},\n",
        "  {'creator': 'monk', 'name': u'piggi'},\n",
        "  {'creator': 'monk', 'name': u'coolest'},\n",
        "  {'creator': 'monk', 'name': u'world'},\n",
        "  {'creator': 'monk', 'name': u'bank'},\n",
        "  {'creator': 'monk', 'name': u'altay'},\n",
        "  {'creator': 'monk', 'name': u'ethiopian'},\n",
        "  {'creator': 'monk', 'name': u'order'},\n",
        "  {'creator': 'monk', 'name': u'injera'},\n",
        "  {'creator': 'monk', 'name': u'day'},\n",
        "  {'creator': 'monk', 'name': u'altura'},\n",
        "  {'creator': 'monk', 'name': u'tast'},\n",
        "  {'creator': 'monk', 'name': u'flexibl'},\n",
        "  {'creator': 'monk', 'name': u'fact'},\n",
        "  {'creator': 'monk', 'name': u'falafel'},\n",
        "  {'creator': 'monk', 'name': u'corner'},\n",
        "  {'creator': 'monk', 'name': u'aladdin'},\n",
        "  {'creator': 'monk', 'name': u'late'},\n",
        "  {'creator': 'monk', 'name': u'open'},\n",
        "  {'creator': 'monk', 'name': u'deck'},\n",
        "  {'creator': 'monk', 'name': u'columbia'},\n",
        "  {'creator': 'monk', 'name': u'center'},\n",
        "  {'creator': 'monk', 'name': u'observ'},\n",
        "  {'creator': 'monk', 'name': u'compar'},\n",
        "  {'creator': 'monk', 'name': u'bean'},\n",
        "  {'creator': 'monk', 'name': u'street'},\n",
        "  {'creator': 'monk', 'name': u'consist'},\n",
        "  {'creator': 'monk', 'name': u'drink'},\n",
        "  {'creator': 'monk', 'name': u'caus'},\n",
        "  {'creator': 'monk', 'name': u'quinn'},\n",
        "  {'creator': 'monk', 'name': u'``'},\n",
        "  {'creator': 'monk', 'name': u'crispi'},\n",
        "  {'creator': 'monk', 'name': u'heard'},\n",
        "  {'creator': 'monk', 'name': u'leav'},\n",
        "  {'creator': 'monk', 'name': u'joe'},\n",
        "  {'creator': 'monk', 'name': u'wild'},\n",
        "  {'creator': 'monk', 'name': u'ever'},\n",
        "  {'creator': 'monk', 'name': u'boar'},\n",
        "  {'creator': 'monk', 'name': u'sloppi'},\n",
        "  {'creator': 'monk', 'name': u'envi'},\n",
        "  {'creator': 'monk', 'name': u'skin'},\n",
        "  {'creator': 'monk', 'name': u'boutiqu'},\n",
        "  {'creator': 'monk', 'name': u'alki'},\n",
        "  {'creator': 'monk', 'name': u'far'},\n",
        "  {'creator': 'monk', 'name': u'!'},\n",
        "  {'creator': 'monk', 'name': u'noth'},\n",
        "  {'creator': 'monk', 'name': u'farm'},\n",
        "  {'creator': 'monk', 'name': u'taylor'},\n",
        "  {'creator': 'monk', 'name': u'shellfish'},\n",
        "  {'creator': 'monk', 'name': u'would'},\n",
        "  {'creator': 'monk', 'name': u'level'},\n",
        "  {'creator': 'monk', 'name': u'geoduck'},\n",
        "  {'creator': 'monk', 'name': u'ponzu'},\n",
        "  {'creator': 'monk', 'name': u'eat'},\n",
        "  {'creator': 'monk', 'name': u'pink'},\n",
        "  {'creator': 'monk', 'name': u'door'},\n",
        "  {'creator': 'monk', 'name': u'zani'},\n",
        "  {'creator': 'monk', 'name': u'enough'},\n",
        "  {'creator': 'monk', 'name': u'trapez'},\n",
        "  {'creator': 'monk', 'name': u'dahlia'},\n",
        "  {'creator': 'monk', 'name': u'coconut'},\n",
        "  {'creator': 'monk', 'name': u'palac'},\n",
        "  {'creator': 'monk', 'name': u'kitchen'},\n",
        "  {'creator': 'monk', 'name': u'bavarian'},\n",
        "  {'creator': 'monk', 'name': u'lola'},\n",
        "  {'creator': 'monk', 'name': u'eye'},\n",
        "  {'creator': 'monk', 'name': u'greek'},\n",
        "  {'creator': 'monk', 'name': u'tom'},\n",
        "  {'creator': 'monk', 'name': u'dougla'},\n",
        "  {'creator': 'monk', 'name': u'trophi'},\n",
        "  {'creator': 'monk', 'name': u'cupcak'},\n",
        "  {'creator': 'monk', 'name': u'parti'},\n",
        "  {'creator': 'monk', 'name': u'michou'},\n",
        "  {'creator': 'monk', 'name': u'perfect'},\n",
        "  {'creator': 'monk', 'name': u'salad'},\n",
        "  {'creator': 'monk', 'name': u'quinoa'},\n",
        "  {'creator': 'monk', 'name': u'sierra'},\n",
        "  {'creator': 'monk', 'name': u'chuck'},\n",
        "  {'creator': 'monk', 'name': u'hop'},\n",
        "  {'creator': 'monk', 'name': u'atmospher'},\n",
        "  {'creator': 'monk', 'name': u'craft'},\n",
        "  {'creator': 'monk', 'name': u'conveni'},\n",
        "  {'creator': 'monk', 'name': u'gelatiamo'},\n",
        "  {'creator': 'monk', 'name': u'got'},\n",
        "  {'creator': 'monk', 'name': u'puff'},\n",
        "  {'creator': 'monk', 'name': u'buona'},\n",
        "  {'creator': 'monk', 'name': u'tavola'},\n",
        "  {'creator': 'monk', 'name': u'la'},\n",
        "  {'creator': 'monk', 'name': u'oil'},\n",
        "  {'creator': 'monk', 'name': u'galor'},\n",
        "  {'creator': 'monk', 'name': u'spread'},\n",
        "  {'creator': 'monk', 'name': u'empir'},\n",
        "  {'creator': 'monk', 'name': u'waffl'},\n",
        "  {'creator': 'monk', 'name': u'ham'},\n",
        "  {'creator': 'monk', 'name': u'station'},\n",
        "  {'creator': 'monk', 'name': u'light'},\n",
        "  {'creator': 'monk', 'name': u'locat'},\n",
        "  {'creator': 'monk', 'name': u'rail'}],\n",
        " 'requires': {}}"
       ]
      }
     ],
     "prompt_number": 26
    },
    {
     "cell_type": "code",
     "collapsed": false,
     "input": [
      "for ent in ents: \n",
      "    stemT.predict(ent,  fields)"
     ],
     "language": "python",
     "metadata": {},
     "outputs": [
      {
       "ename": "NameError",
       "evalue": "name 'fields' is not defined",
       "output_type": "pyerr",
       "traceback": [
        "\u001b[1;31m---------------------------------------------------------------------------\u001b[0m\n\u001b[1;31mNameError\u001b[0m                                 Traceback (most recent call last)",
        "\u001b[1;32m<ipython-input-27-beb518e60d47>\u001b[0m in \u001b[0;36m<module>\u001b[1;34m()\u001b[0m\n\u001b[0;32m      1\u001b[0m \u001b[1;32mfor\u001b[0m \u001b[0ment\u001b[0m \u001b[1;32min\u001b[0m \u001b[0ments\u001b[0m\u001b[1;33m:\u001b[0m\u001b[1;33m\u001b[0m\u001b[0m\n\u001b[1;32m----> 2\u001b[1;33m     \u001b[0mstemT\u001b[0m\u001b[1;33m.\u001b[0m\u001b[0mpredict\u001b[0m\u001b[1;33m(\u001b[0m\u001b[0ment\u001b[0m\u001b[1;33m,\u001b[0m  \u001b[0mfields\u001b[0m\u001b[1;33m)\u001b[0m\u001b[1;33m\u001b[0m\u001b[0m\n\u001b[0m",
        "\u001b[1;31mNameError\u001b[0m: name 'fields' is not defined"
       ]
      }
     ],
     "prompt_number": 27
    },
    {
     "cell_type": "markdown",
     "metadata": {},
     "source": [
      "##load some data##"
     ]
    },
    {
     "cell_type": "markdown",
     "metadata": {},
     "source": [
      "    load_entities(query={}, skip=0, num=100, collectionName=None)\n",
      "Parameters:\n",
      "\n",
      "- `query`: MongoDB style query spec, e.g., `{'tag':{'$in':['Shopping','Wine']}}`.\n",
      "- `skip`: the index to start the retrieval\n",
      "- `num`: the number of documents to retrieve\n",
      "- `collectionName`: the name of the collection."
     ]
    },
    {
     "cell_type": "code",
     "collapsed": false,
     "input": [
      "ents = ms.load_entities()\n",
      "print len(ents)\n",
      "ents[0].generic()"
     ],
     "language": "python",
     "metadata": {},
     "outputs": [
      {
       "output_type": "stream",
       "stream": "stdout",
       "text": [
        "100\n"
       ]
      },
      {
       "metadata": {},
       "output_type": "pyout",
       "prompt_number": 4,
       "text": [
        "{'_features': [(4097, 1.0),\n",
        "  (4098, 1.0),\n",
        "  (4099, 1.0),\n",
        "  (4100, 1.0),\n",
        "  (4101, 1.0),\n",
        "  (4102, 1.0)],\n",
        " '_raws': {u'flavor': 1,\n",
        "  u'love': 1,\n",
        "  u'option': 1,\n",
        "  u'top': 1,\n",
        "  u'yogurt': 1,\n",
        "  u'yogurtland': 1},\n",
        " u'address': u'\\n\\t\\t\\t1620 BroadwaySeattle, WA 98122\\n\\t\\t',\n",
        " u'category_str_list': [u'Ice Cream & Frozen Yogurt'],\n",
        " u'comment': u'I love all those options for yogurt flavors and toppings.',\n",
        " 'createdTime': datetime.datetime(2015, 3, 21, 6, 32, 51, 571000),\n",
        " 'creator': u'monk',\n",
        " u'desc': u'Yogurtland',\n",
        " u'google_geometry': [{u'address_components': [{u'long_name': u'1620',\n",
        "     u'short_name': u'1620',\n",
        "     u'types': [u'street_number']},\n",
        "    {u'long_name': u'Broadway',\n",
        "     u'short_name': u'Broadway',\n",
        "     u'types': [u'route']},\n",
        "    {u'long_name': u'Capitol Hill',\n",
        "     u'short_name': u'Capitol Hill',\n",
        "     u'types': [u'neighborhood', u'political']},\n",
        "    {u'long_name': u'Seattle',\n",
        "     u'short_name': u'Seattle',\n",
        "     u'types': [u'locality', u'political']},\n",
        "    {u'long_name': u'Seattle',\n",
        "     u'short_name': u'Seattle',\n",
        "     u'types': [u'administrative_area_level_3', u'political']},\n",
        "    {u'long_name': u'King',\n",
        "     u'short_name': u'King',\n",
        "     u'types': [u'administrative_area_level_2', u'political']},\n",
        "    {u'long_name': u'Washington',\n",
        "     u'short_name': u'WA',\n",
        "     u'types': [u'administrative_area_level_1', u'political']},\n",
        "    {u'long_name': u'United States',\n",
        "     u'short_name': u'US',\n",
        "     u'types': [u'country', u'political']},\n",
        "    {u'long_name': u'98122',\n",
        "     u'short_name': u'98122',\n",
        "     u'types': [u'postal_code']}],\n",
        "   u'formatted_address': u'1620 Broadway, Seattle, WA 98122, USA',\n",
        "   u'geometry': {u'location': {u'lat': 47.6162747, u'lng': -122.3205492},\n",
        "    u'location_type': u'ROOFTOP',\n",
        "    u'viewport': {u'northeast': {u'lat': 47.6176236802915,\n",
        "      u'lng': -122.3192002197085},\n",
        "     u'southwest': {u'lat': 47.6149257197085, u'lng': -122.3218981802915}}},\n",
        "   u'types': [u'street_address']}],\n",
        " 'lastModified': datetime.datetime(2015, 3, 27, 23, 26, 5, 374027),\n",
        " u'link': u'/biz/yogurtland-seattle',\n",
        " 'monkType': u'Entity',\n",
        " 'name': u'',\n",
        " u'price_range': 1,\n",
        " u'rating_string': u'4.5',\n",
        " u'review_count': u'275',\n",
        " u'title': u'Yogurtland'}"
       ]
      }
     ],
     "prompt_number": 4
    },
    {
     "cell_type": "code",
     "collapsed": false,
     "input": [
      "fields=['title', 'comment', 'desc']"
     ],
     "language": "python",
     "metadata": {},
     "outputs": [],
     "prompt_number": 7
    },
    {
     "cell_type": "code",
     "collapsed": false,
     "input": [
      "stemT.save()"
     ],
     "language": "python",
     "metadata": {},
     "outputs": [],
     "prompt_number": 12
    },
    {
     "cell_type": "markdown",
     "metadata": {},
     "source": [
      "#Create new turtle#\n",
      "\n",
      "Turtle provides a solution for a specific problem.\n",
      "\n",
      "| Parameters | Definitions | Examples |\n",
      "|:---------- |:----------- |:-------- |\n",
      "| monkType | Turtle type | `MultiLabelTurtle`\n",
      "| name | A unique string | `flydragon_tagger` |\n",
      "| description | Detailed project description can help others understand | `Used to predict first level tags for activities stored in flydragon` |\n",
      "| mapping | An encoder that encodes the targets into internal pandas structures. It is not useful for multilabel turtle. But, it is useful for multi-class Turtle. Encoding strategies can be very tricky since it will affect the final accuracies. For example, **Error Correcting Output Code** can be of a good choice, but a random binary coding can be bad. For **Sum-Product-Network Turtle**, smart coding will be learned from data, which will relieve the coding burden from scientists | `{'dinning':[0000001000], 'hotel':[100000000]}` |\n",
      "| entityCollectionName | The data collection name to work on, assuming the database is given in MONK's configuration | `activities`|\n",
      "| requires | The field defines the turtle's dependencies, or which features to use. It can be **uids** or **turtle_ids**. When **turtle_ids** used, the pandas' uids in those turtles will all be the features for this turtle | `{'requires': {'turtleIds':[<id1>, <id2>]}}` |\n",
      "| pMaxPathLength | Inference will employ **Beam Search** algorithm, this parameter will be the maximum length of a search path before it stops | `1`|\n",
      "| pMaxInferenceSteps | The maximum number of inferences before it gives up. | `1`|\n",
      "||||\n",
      "|tigress | A tigress as the superviser to train the turtles and measure the performances | see below |\n",
      "|pandas | A list of panda that are employed to solve the problem | see below |\n",
      "\n",
      "Tigress provides functionalities to supervise and measure the performance of a turtle.\n",
      "\n",
      "| Parameters | Definitions | Examples |\n",
      "| :--------- | :---------- | :------- |\n",
      "| monkType | Tigress type | `MultiLabelTigress` |\n",
      "| name | A string | `flydragon_tagger` |\n",
      "| description | Detailed discriptions | `Equal weighted multilabel classifiers` |\n",
      "| costs | The cost of each tag/label being incorrectly predicted, if not defined, defaultCost will be used | `{'dinning':1.0, 'boating':0.2}`|\n",
      "| defaultCost | If cost of a tag is not specified, defaultCost will be used. If defaultCost is not defined, it will be the smallest value in the costs | `1.0`|\n",
      "||||\n",
      "| displayTextFields | The fields for the entity to be displayed when doing inter-active learning | `['title','reviews']`|\n",
      "| displayImageField | If possible, display an image (url) | `photo_url`|\n",
      "| activeBatchSize | For each active learning stage, how many uncertain examples to scan through, default to 100 | `100`|\n",
      "| pCuriosity | The factor of the active learning to trade off between **exploitation** and **exploration**. 0.0 means no **exploitation** | `0.0`|\n",
      "||||\n",
      "| patterns | For PatternTigress and children, each target has a pattern to search. If the pattern matches, the tag is on, otherwise the tag is off | `{'dinning':'dinning'}` |\n",
      "| fields | In which fields, the tigress is supposed to search through | `['title', 'description', ...]`|\n",
      "| mutualExclusive | True for only one target existing in the fields, False otherwise | `False`|\n",
      "| defaulting | True for using default tag when nothing found in the fields. False for ignoring this example | `False`|\n",
      "\n",
      "Panda is a basic classifier/regressor.\n",
      "\n",
      "| Parameters | Definitions | Examples |\n",
      "| :--------- | :---------- | :------- |\n",
      "| monkType | Panda type | `LinearPanda`|\n",
      "| name | A unique string | `dinning` |\n",
      "| mantis | A learning algorithm | see below |\n",
      "\n",
      "Mantis is a basic learning algorithm.\n",
      "\n",
      "| Parameters | Definitions | Examples |\n",
      "| :--------- | :---------- | :------- |\n",
      "| monkType | Mantis type | `Mantis` |\n",
      "| maxNumIters | Maximum number of iterations to perform optimization | `100`|\n",
      "| maxNumInstances | Maximum number of instances for each user | `1000` |\n",
      "| eps | Convergence interval | 1e-4|\n",
      "| lam | Lambda that controls the regularization strength | 1 |\n",
      "| rho | Personalization strength, the smaller the higher the personalization | 1 |"
     ]
    },
    {
     "cell_type": "code",
     "collapsed": false,
     "input": [
      "likeTS = ms.yaml2json('turtle_scripts/turtle_like.yml')\n",
      "print likeTS"
     ],
     "language": "python",
     "metadata": {},
     "outputs": [
      {
       "output_type": "stream",
       "stream": "stdout",
       "text": [
        "{'tigress': {'patterns': {'likeTravel': 'Y'}, 'name': 'likeTravel', 'fields': ['likeTravel'], 'monkType': 'PatternTigress', 'defaulting': True, 'description': 'binary like or dislike classifier'}, 'name': 'likeTravel', 'monkType': 'SingleTurtle', 'description': 'predicting if one likes the item or not', 'requires': {'turtles': ['travel_stem']}, 'mapping': {'likeTravel': [1]}, 'pandas': [{'monkType': 'LinearPanda', 'name': 'likeTravel', 'mantis': {'monkType': 'Mantis'}}]}\n"
       ]
      }
     ],
     "prompt_number": 5
    },
    {
     "cell_type": "code",
     "collapsed": false,
     "input": [
      "likeT = ms.create_turtle(likeTS)"
     ],
     "language": "python",
     "metadata": {},
     "outputs": [],
     "prompt_number": 6
    },
    {
     "cell_type": "code",
     "collapsed": false,
     "input": [
      "likeT.save()"
     ],
     "language": "python",
     "metadata": {},
     "outputs": [],
     "prompt_number": 7
    },
    {
     "cell_type": "code",
     "collapsed": false,
     "input": [
      "ent = ents[0]"
     ],
     "language": "python",
     "metadata": {},
     "outputs": [],
     "prompt_number": 9
    },
    {
     "cell_type": "code",
     "collapsed": false,
     "input": [
      "ents[0].generic()"
     ],
     "language": "python",
     "metadata": {},
     "outputs": [
      {
       "metadata": {},
       "output_type": "pyout",
       "prompt_number": 32,
       "text": [
        "{'_features': [(4097, 1.0),\n",
        "  (4098, 1.0),\n",
        "  (4099, 1.0),\n",
        "  (4100, 1.0),\n",
        "  (4101, 1.0),\n",
        "  (4102, 1.0)],\n",
        " '_raws': {u'flavor': 1,\n",
        "  u'love': 1,\n",
        "  u'option': 1,\n",
        "  u'top': 1,\n",
        "  u'yogurt': 1,\n",
        "  u'yogurtland': 1},\n",
        " u'address': u'\\n\\t\\t\\t1620 BroadwaySeattle, WA 98122\\n\\t\\t',\n",
        " u'category_str_list': [u'Ice Cream & Frozen Yogurt'],\n",
        " u'comment': u'I love all those options for yogurt flavors and toppings.',\n",
        " 'createdTime': datetime.datetime(2015, 3, 21, 6, 32, 51, 571000),\n",
        " 'creator': u'monk',\n",
        " u'desc': u'Yogurtland',\n",
        " u'google_geometry': [{u'address_components': [{u'long_name': u'1620',\n",
        "     u'short_name': u'1620',\n",
        "     u'types': [u'street_number']},\n",
        "    {u'long_name': u'Broadway',\n",
        "     u'short_name': u'Broadway',\n",
        "     u'types': [u'route']},\n",
        "    {u'long_name': u'Capitol Hill',\n",
        "     u'short_name': u'Capitol Hill',\n",
        "     u'types': [u'neighborhood', u'political']},\n",
        "    {u'long_name': u'Seattle',\n",
        "     u'short_name': u'Seattle',\n",
        "     u'types': [u'locality', u'political']},\n",
        "    {u'long_name': u'Seattle',\n",
        "     u'short_name': u'Seattle',\n",
        "     u'types': [u'administrative_area_level_3', u'political']},\n",
        "    {u'long_name': u'King',\n",
        "     u'short_name': u'King',\n",
        "     u'types': [u'administrative_area_level_2', u'political']},\n",
        "    {u'long_name': u'Washington',\n",
        "     u'short_name': u'WA',\n",
        "     u'types': [u'administrative_area_level_1', u'political']},\n",
        "    {u'long_name': u'United States',\n",
        "     u'short_name': u'US',\n",
        "     u'types': [u'country', u'political']},\n",
        "    {u'long_name': u'98122',\n",
        "     u'short_name': u'98122',\n",
        "     u'types': [u'postal_code']}],\n",
        "   u'formatted_address': u'1620 Broadway, Seattle, WA 98122, USA',\n",
        "   u'geometry': {u'location': {u'lat': 47.6162747, u'lng': -122.3205492},\n",
        "    u'location_type': u'ROOFTOP',\n",
        "    u'viewport': {u'northeast': {u'lat': 47.6176236802915,\n",
        "      u'lng': -122.3192002197085},\n",
        "     u'southwest': {u'lat': 47.6149257197085, u'lng': -122.3218981802915}}},\n",
        "   u'types': [u'street_address']}],\n",
        " 'lastModified': datetime.datetime(2015, 3, 21, 8, 25, 55, 493265),\n",
        " u'link': u'/biz/yogurtland-seattle',\n",
        " 'monkType': u'Entity',\n",
        " 'name': u'',\n",
        " u'price_range': 1,\n",
        " u'rating_string': u'4.5',\n",
        " u'review_count': u'275',\n",
        " u'title': u'Yogurtland'}"
       ]
      }
     ],
     "prompt_number": 32
    },
    {
     "cell_type": "markdown",
     "metadata": {},
     "source": [
      "##Add label##\n",
      "Flask API:\n",
      "    add_label(ent_id, field, value)"
     ]
    },
    {
     "cell_type": "code",
     "collapsed": false,
     "input": [
      "ent._setattr('likeTravel', 'Y')\n",
      "ms.crane.entityStore.save_one(ent)"
     ],
     "language": "python",
     "metadata": {},
     "outputs": [],
     "prompt_number": 11
    },
    {
     "cell_type": "code",
     "collapsed": false,
     "input": [
      "ent.generic()"
     ],
     "language": "python",
     "metadata": {},
     "outputs": [
      {
       "metadata": {},
       "output_type": "pyout",
       "prompt_number": 12,
       "text": [
        "{'_features': [(4097, 1.0),\n",
        "  (4098, 1.0),\n",
        "  (4099, 1.0),\n",
        "  (4100, 1.0),\n",
        "  (4101, 1.0),\n",
        "  (4102, 1.0)],\n",
        " '_raws': {u'flavor': 1,\n",
        "  u'love': 1,\n",
        "  u'option': 1,\n",
        "  u'top': 1,\n",
        "  u'yogurt': 1,\n",
        "  u'yogurtland': 1},\n",
        " u'address': u'\\n\\t\\t\\t1620 BroadwaySeattle, WA 98122\\n\\t\\t',\n",
        " u'category_str_list': [u'Ice Cream & Frozen Yogurt'],\n",
        " u'comment': u'I love all those options for yogurt flavors and toppings.',\n",
        " 'createdTime': datetime.datetime(2015, 3, 21, 6, 32, 51, 571000),\n",
        " 'creator': u'monk',\n",
        " u'desc': u'Yogurtland',\n",
        " u'google_geometry': [{u'address_components': [{u'long_name': u'1620',\n",
        "     u'short_name': u'1620',\n",
        "     u'types': [u'street_number']},\n",
        "    {u'long_name': u'Broadway',\n",
        "     u'short_name': u'Broadway',\n",
        "     u'types': [u'route']},\n",
        "    {u'long_name': u'Capitol Hill',\n",
        "     u'short_name': u'Capitol Hill',\n",
        "     u'types': [u'neighborhood', u'political']},\n",
        "    {u'long_name': u'Seattle',\n",
        "     u'short_name': u'Seattle',\n",
        "     u'types': [u'locality', u'political']},\n",
        "    {u'long_name': u'Seattle',\n",
        "     u'short_name': u'Seattle',\n",
        "     u'types': [u'administrative_area_level_3', u'political']},\n",
        "    {u'long_name': u'King',\n",
        "     u'short_name': u'King',\n",
        "     u'types': [u'administrative_area_level_2', u'political']},\n",
        "    {u'long_name': u'Washington',\n",
        "     u'short_name': u'WA',\n",
        "     u'types': [u'administrative_area_level_1', u'political']},\n",
        "    {u'long_name': u'United States',\n",
        "     u'short_name': u'US',\n",
        "     u'types': [u'country', u'political']},\n",
        "    {u'long_name': u'98122',\n",
        "     u'short_name': u'98122',\n",
        "     u'types': [u'postal_code']}],\n",
        "   u'formatted_address': u'1620 Broadway, Seattle, WA 98122, USA',\n",
        "   u'geometry': {u'location': {u'lat': 47.6162747, u'lng': -122.3205492},\n",
        "    u'location_type': u'ROOFTOP',\n",
        "    u'viewport': {u'northeast': {u'lat': 47.6176236802915,\n",
        "      u'lng': -122.3192002197085},\n",
        "     u'southwest': {u'lat': 47.6149257197085, u'lng': -122.3218981802915}}},\n",
        "   u'types': [u'street_address']}],\n",
        " 'lastModified': datetime.datetime(2015, 3, 27, 23, 29, 17, 554751),\n",
        " 'likeTravel': 'Y',\n",
        " u'link': u'/biz/yogurtland-seattle',\n",
        " 'monkType': u'Entity',\n",
        " 'name': u'',\n",
        " u'price_range': 1,\n",
        " u'rating_string': u'4.5',\n",
        " u'review_count': u'275',\n",
        " u'title': u'Yogurtland'}"
       ]
      }
     ],
     "prompt_number": 12
    },
    {
     "cell_type": "code",
     "collapsed": false,
     "input": [
      "likeT.pandas[0].mantis"
     ],
     "language": "python",
     "metadata": {},
     "outputs": [
      {
       "metadata": {},
       "output_type": "pyout",
       "prompt_number": 10,
       "text": [
        "<monk.core.mantis.Mantis at 0x7f4c4d85dfd0>"
       ]
      }
     ],
     "prompt_number": 10
    },
    {
     "cell_type": "markdown",
     "metadata": {},
     "source": [
      "##Add data to turtle##\n",
      "Flask API\n",
      "    add_data_to_model(turtleName, creator, ent_id)\n",
      "    \n",
      "   - ent_id is a string\n",
      "    \n",
      "   - creator defaults to 'monk'"
     ]
    },
    {
     "cell_type": "code",
     "collapsed": false,
     "input": [
      "ms.add_data('likeTravel', 'monk', str(ent._id))"
     ],
     "language": "python",
     "metadata": {},
     "outputs": [
      {
       "output_type": "stream",
       "stream": "stdout",
       "text": [
        "[2015-03-27 23:29:41,714][19717][monk.tigress][DEBUG   ][109 ][tigress.py] : combinedField Y\n"
       ]
      },
      {
       "metadata": {},
       "output_type": "pyout",
       "prompt_number": 13,
       "text": [
        "True"
       ]
      }
     ],
     "prompt_number": 13
    },
    {
     "cell_type": "code",
     "collapsed": false,
     "input": [
      "likeT.tigress.p"
     ],
     "language": "python",
     "metadata": {},
     "outputs": [
      {
       "metadata": {},
       "output_type": "pyout",
       "prompt_number": 14,
       "text": [
        "{re.compile(r'Y'): 'likeTravel'}"
       ]
      }
     ],
     "prompt_number": 14
    },
    {
     "cell_type": "code",
     "collapsed": false,
     "input": [
      "likeT.pandas[0].mantis.data"
     ],
     "language": "python",
     "metadata": {},
     "outputs": [
      {
       "metadata": {},
       "output_type": "pyout",
       "prompt_number": 15,
       "text": [
        "{ObjectId('524c04c4e291973e1136496c'): (0, 1, 1.0)}"
       ]
      }
     ],
     "prompt_number": 15
    },
    {
     "cell_type": "code",
     "collapsed": false,
     "input": [
      "ms.add_data('likeTravel', 'monk', str(ents[1]._id))"
     ],
     "language": "python",
     "metadata": {},
     "outputs": [
      {
       "output_type": "stream",
       "stream": "stdout",
       "text": [
        "[2015-03-27 23:29:54,326][19717][monk.tigress][DEBUG   ][109 ][tigress.py] : combinedField \n"
       ]
      },
      {
       "metadata": {},
       "output_type": "pyout",
       "prompt_number": 16,
       "text": [
        "True"
       ]
      }
     ],
     "prompt_number": 16
    },
    {
     "cell_type": "code",
     "collapsed": false,
     "input": [
      "likeT.tigress.defaulting=True"
     ],
     "language": "python",
     "metadata": {},
     "outputs": [],
     "prompt_number": 17
    },
    {
     "cell_type": "code",
     "collapsed": false,
     "input": [
      "likeT.pandas[0].mantis.data"
     ],
     "language": "python",
     "metadata": {},
     "outputs": [
      {
       "metadata": {},
       "output_type": "pyout",
       "prompt_number": 18,
       "text": [
        "{ObjectId('524c04c4e291973e1136496c'): (0, 1, 1.0),\n",
        " ObjectId('524c04c4e291973e1136496d'): (1, -1, 1.0)}"
       ]
      }
     ],
     "prompt_number": 18
    },
    {
     "cell_type": "markdown",
     "metadata": {},
     "source": [
      "##Training##\n",
      "Flask API:\n",
      "   - train(turtleName, creator)"
     ]
    },
    {
     "cell_type": "code",
     "collapsed": false,
     "input": [
      "likeT = ms.load_turtle('likeTravel','monk')"
     ],
     "language": "python",
     "metadata": {},
     "outputs": [],
     "prompt_number": 21
    },
    {
     "cell_type": "code",
     "collapsed": false,
     "input": [
      "likeT.train()"
     ],
     "language": "python",
     "metadata": {},
     "outputs": [
      {
       "output_type": "stream",
       "stream": "stdout",
       "text": [
        "[2015-03-27 23:30:56,534][19717][monk.mantis ][DEBUG   ][102 ][mantis.py] : gamma in mantis 1\n"
       ]
      },
      {
       "output_type": "stream",
       "stream": "stdout",
       "text": [
        "[2015-03-27 23:30:56,535][19717][monk.svm_solver_dual][DEBUG   ][138 ][mantis.py] : rho0 in svm_solver_dual.trainModel 0.25\n"
       ]
      },
      {
       "output_type": "stream",
       "stream": "stdout",
       "text": [
        "[2015-03-27 23:30:56,535][19717][monk.svm_solver_dual][DEBUG   ][138 ][mantis.py] : num_instances 2\n"
       ]
      },
      {
       "output_type": "stream",
       "stream": "stdout",
       "text": [
        "[2015-03-27 23:30:56,536][19717][monk.mantis ][DEBUG   ][155 ][mantis.py] : q = * * * 4097:0.1309 4098:0.1309 4099:0.1309 4100:0.1309 ...\n",
        "[4103:-0.0595660060644,4097:0.13090929389]\n"
       ]
      },
      {
       "output_type": "stream",
       "stream": "stdout",
       "text": [
        "[2015-03-27 23:30:56,536][19717][monk.mantis ][DEBUG   ][156 ][mantis.py] : w = * * * 4097:0.1929 4098:0.1929 4099:0.1929 4100:0.1929 ...\n",
        "[4103:-0.188097715378,4097:0.192854225636]\n"
       ]
      },
      {
       "output_type": "stream",
       "stream": "stdout",
       "text": [
        "[2015-03-27 23:30:56,539][19717][monk.turtle ][DEBUG   ][230 ][turtle.py] : training clock 1\n"
       ]
      }
     ],
     "prompt_number": 22
    },
    {
     "cell_type": "code",
     "collapsed": false,
     "input": [
      "from monk.math.cmath import sign0"
     ],
     "language": "python",
     "metadata": {},
     "outputs": [],
     "prompt_number": 40
    },
    {
     "cell_type": "markdown",
     "metadata": {},
     "source": [
      "##Prediction##\n",
      "Flask API:\n",
      "- predict(turtleName, creator, ent_id)\n",
      "- creator defaults to 'monk'\n",
      "- ent_id string"
     ]
    },
    {
     "cell_type": "code",
     "collapsed": false,
     "input": [
      "likeT = ms.load_turtle(turtleName, creator)\n",
      "ent = ms.load_entity(ent_id)\n",
      "return likeT.pandas[0].predict(ent)"
     ],
     "language": "python",
     "metadata": {},
     "outputs": []
    },
    {
     "cell_type": "code",
     "collapsed": false,
     "input": [
      "likeT.pandas[0].predict(ents[0])"
     ],
     "language": "python",
     "metadata": {},
     "outputs": [
      {
       "metadata": {},
       "output_type": "pyout",
       "prompt_number": 25,
       "text": [
        "0.874138355255127"
       ]
      }
     ],
     "prompt_number": 25
    },
    {
     "cell_type": "code",
     "collapsed": false,
     "input": [],
     "language": "python",
     "metadata": {},
     "outputs": []
    }
   ],
   "metadata": {}
  }
 ]
}